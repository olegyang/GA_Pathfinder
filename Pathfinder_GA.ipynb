{
 "cells": [
  {
   "cell_type": "code",
   "execution_count": 10,
   "metadata": {},
   "outputs": [],
   "source": [
    "import numpy as np\n",
    "import random\n",
    "import pandas as pd\n",
    "import matplotlib.pyplot as plt\n",
    "import math\n",
    "import operator\n",
    "%matplotlib inline"
   ]
  },
  {
   "cell_type": "code",
   "execution_count": 11,
   "metadata": {},
   "outputs": [],
   "source": [
    "class City:\n",
    "    def __init__(self, x, y):\n",
    "        self.x = x\n",
    "        self.y = y\n",
    "    \n",
    "    def distance(self, city):\n",
    "        xDis = abs(self.x - city.x)\n",
    "        yDis = abs(self.y - city.y)\n",
    "        distance = np.sqrt((xDis ** 2) + (yDis ** 2))\n",
    "        return distance\n",
    "    \n",
    "    def __repr__(self, formats = 'str'):\n",
    "        if formats == 'str':\n",
    "            return \"(\" + str(self.x) + \",\" + str(self.y) + \")\"\n",
    "        elif formats == 'array':\n",
    "            return [int(self.x),int(self.y)]"
   ]
  },
  {
   "cell_type": "code",
   "execution_count": 12,
   "metadata": {},
   "outputs": [],
   "source": [
    "class Fitness:\n",
    "    def __init__(self, route):\n",
    "        self.route = route\n",
    "        self.distance = 0\n",
    "        self.fitness= 0.0\n",
    "    \n",
    "    def routeDistance(self):\n",
    "        if self.distance ==0:\n",
    "            pathDistance = 0\n",
    "            for i in range(0, len(self.route)):\n",
    "                \n",
    "                fromCity = self.route[i]\n",
    "                toCity = None\n",
    "                \n",
    "                if i + 1 < len(self.route):\n",
    "                    toCity = self.route[i + 1]\n",
    "                else:\n",
    "                    toCity = self.route[0]\n",
    "                    \n",
    "                    \n",
    "                pathDistance += fromCity.distance(toCity)\n",
    "            self.distance = pathDistance\n",
    "        return self.distance\n",
    "    \n",
    "    def routeFitness(self):\n",
    "        if self.fitness == 0:\n",
    "            self.fitness = 1 / float(self.routeDistance())\n",
    "        return self.fitness"
   ]
  },
  {
   "cell_type": "code",
   "execution_count": 55,
   "metadata": {},
   "outputs": [],
   "source": [
    "def create_starting_population():\n",
    "    cityList = []\n",
    "    \n",
    "    for i in range(0,25):\n",
    "        cityList.append(City(x=int(random.random() * 200), y=int(random.random() * 200)))\n",
    "        \n",
    "    return cityList\n",
    "\n",
    "cityList = create_starting_population()\n",
    "popSize = 4\n",
    "mutationRate = 0.01\n",
    "iters = 1\n",
    "eliteSize = int(popSize * 0.2)\n"
   ]
  },
  {
   "cell_type": "code",
   "execution_count": 56,
   "metadata": {},
   "outputs": [
    {
     "data": {
      "text/plain": [
       "[(108,113),\n",
       " (20,23),\n",
       " (99,119),\n",
       " (87,70),\n",
       " (34,186),\n",
       " (63,24),\n",
       " (127,31),\n",
       " (175,120),\n",
       " (94,75),\n",
       " (146,83),\n",
       " (168,168),\n",
       " (44,91),\n",
       " (57,191),\n",
       " (97,62),\n",
       " (130,13),\n",
       " (68,133),\n",
       " (22,31),\n",
       " (57,151),\n",
       " (165,54),\n",
       " (17,88),\n",
       " (97,134),\n",
       " (183,3),\n",
       " (187,13),\n",
       " (24,124),\n",
       " (103,156)]"
      ]
     },
     "execution_count": 56,
     "metadata": {},
     "output_type": "execute_result"
    }
   ],
   "source": [
    "cityList"
   ]
  },
  {
   "cell_type": "code",
   "execution_count": 57,
   "metadata": {},
   "outputs": [
    {
     "name": "stdout",
     "output_type": "stream",
     "text": [
      "[(57,151), (94,75), (127,31), (97,62), (103,156), (68,133), (108,113), (87,70), (20,23), (97,134), (183,3), (168,168), (63,24), (24,124), (17,88), (22,31), (130,13), (34,186), (99,119), (165,54), (57,191), (187,13), (146,83), (44,91), (175,120)]\n"
     ]
    }
   ],
   "source": [
    "def createRoute(cityList):\n",
    "    ### Случайная подвыборка из списка нодов\n",
    "    route = random.sample(cityList, len(cityList))\n",
    "    return route\n",
    "\n",
    "route = createRoute(cityList)\n",
    "print(route)"
   ]
  },
  {
   "cell_type": "code",
   "execution_count": 58,
   "metadata": {},
   "outputs": [
    {
     "data": {
      "text/plain": [
       "4"
      ]
     },
     "execution_count": 58,
     "metadata": {},
     "output_type": "execute_result"
    }
   ],
   "source": [
    "def initialPopulation(popSize, cityList):\n",
    "    \n",
    "    population = []\n",
    "\n",
    "    for i in range(0, popSize):\n",
    "        population.append(createRoute(cityList))\n",
    "    return population\n",
    "\n",
    "pop_sample = initialPopulation(popSize,cityList)\n",
    "len(pop_sample)"
   ]
  },
  {
   "cell_type": "code",
   "execution_count": 59,
   "metadata": {},
   "outputs": [
    {
     "data": {
      "text/plain": [
       "[(1, 0.00045276011422176504),\n",
       " (2, 0.00042944662842248017),\n",
       " (0, 0.00041843486127386324),\n",
       " (3, 0.00039635965668554984)]"
      ]
     },
     "execution_count": 59,
     "metadata": {},
     "output_type": "execute_result"
    }
   ],
   "source": [
    "def rankRoutes(population):\n",
    "    # сортированный список (индекс индивида, значение фитнесс)\n",
    "    fitnessResults = {}\n",
    "    for i in range(0,len(population)):\n",
    "        fitnessResults[i] = Fitness(population[i]).routeFitness()\n",
    "    return sorted(fitnessResults.items(), key = operator.itemgetter(1), reverse = True)\n",
    "\n",
    "rank_sample = rankRoutes(pop_sample)\n",
    "rank_sample"
   ]
  },
  {
   "cell_type": "code",
   "execution_count": 60,
   "metadata": {},
   "outputs": [
    {
     "name": "stdout",
     "output_type": "stream",
     "text": [
      "   Index   Fitness   cum_sum    cum_perc\n",
      "0    1.0  0.000453  0.000453   26.680010\n",
      "1    2.0  0.000429  0.000882   51.986216\n",
      "2    0.0  0.000418  0.001301   76.643526\n",
      "3    3.0  0.000396  0.001697  100.000000\n",
      "\n",
      " 50.99916541572475\n",
      "\n",
      " 14.6580484736898\n",
      "\n",
      " 66.06044238117454\n",
      "\n",
      " 42.904950825118114\n",
      "\n",
      " [2, 1, 0, 2]\n"
     ]
    }
   ],
   "source": [
    "def selection(popRanked, eliteSize):\n",
    "    selectionResults = []\n",
    "    df = pd.DataFrame(np.array(popRanked), columns=[\"Index\",\"Fitness\"])\n",
    "    df['cum_sum'] = df.Fitness.cumsum() #скользящая сумма\n",
    "    df['cum_perc'] = 100*df.cum_sum/df.Fitness.sum() # в процентах\n",
    "    print(df.head())\n",
    "    for i in range(0, eliteSize):\n",
    "        selectionResults.append(popRanked[i][0])\n",
    "        \n",
    "    for i in range(0, len(popRanked) - eliteSize):\n",
    "        pick = 100*random.random()\n",
    "        print(\"\\n\",pick)\n",
    "        for i in range(0, len(popRanked)):\n",
    "            if pick <= df.iat[i,3]: #если рандом значение <= значению cum_sum\n",
    "                selectionResults.append(popRanked[i][0])\n",
    "                break\n",
    "    return selectionResults\n",
    "\n",
    "selectionResults=selection(rank_sample, eliteSize)\n",
    "print(\"\\n\",selectionResults)"
   ]
  },
  {
   "cell_type": "code",
   "execution_count": 61,
   "metadata": {},
   "outputs": [
    {
     "data": {
      "text/plain": [
       "4"
      ]
     },
     "execution_count": 61,
     "metadata": {},
     "output_type": "execute_result"
    }
   ],
   "source": [
    "def matingPool(population, selectionResults): #то же самое что и selection только вместо индексов хромосом - хромосомы\n",
    "    matingpool = []\n",
    "    for i in range(0, len(selectionResults)):\n",
    "        index = selectionResults[i]\n",
    "        matingpool.append(population[index])\n",
    "    return matingpool\n",
    "\n",
    "mp = matingPool(pop_sample, selectionResults)\n",
    "len(mp)"
   ]
  },
  {
   "cell_type": "code",
   "execution_count": 93,
   "metadata": {},
   "outputs": [
    {
     "name": "stdout",
     "output_type": "stream",
     "text": [
      "[(57,151), (34,186), (94,75), (183,3), (17,88), (22,31), (57,191), (68,133), (24,124), (127,31), (97,62), (103,156), (108,113), (20,23), (187,13), (63,24), (87,70), (146,83), (97,134), (99,119), (44,91), (168,168), (165,54), (175,120), (130,13)] \n",
      " \n",
      " [(97,62), (17,88), (99,119), (108,113), (20,23), (57,151), (63,24), (103,156), (94,75), (165,54), (175,120), (187,13), (130,13), (24,124), (57,191), (97,134), (44,91), (68,133), (127,31), (87,70), (22,31), (34,186), (168,168), (146,83), (183,3)]\n",
      "\n",
      " 3 14\n",
      "\n",
      " [(183,3), (17,88), (22,31), (57,191), (68,133), (24,124), (127,31), (97,62), (103,156), (108,113), (20,23)] \n",
      " [(99,119), (57,151), (63,24), (94,75), (165,54), (175,120), (187,13), (130,13), (97,134), (44,91), (87,70), (34,186), (168,168), (146,83)]\n",
      "\n",
      " \n",
      " [(183,3), (17,88), (22,31), (57,191), (68,133), (24,124), (127,31), (97,62), (103,156), (108,113), (20,23), (99,119), (57,151), (63,24), (94,75), (165,54), (175,120), (187,13), (130,13), (97,134), (44,91), (87,70), (34,186), (168,168), (146,83)]\n",
      "[(97,62), (17,88), (99,119), (108,113), (20,23), (57,151), (63,24), (103,156), (94,75), (165,54), (175,120), (187,13), (130,13), (24,124), (57,191), (97,134), (44,91), (68,133), (127,31), (87,70), (22,31), (34,186), (168,168), (146,83), (183,3)] \n",
      " \n",
      " [(183,3), (97,62), (20,23), (24,124), (94,75), (146,83), (87,70), (57,191), (130,13), (187,13), (22,31), (99,119), (44,91), (175,120), (165,54), (168,168), (68,133), (97,134), (17,88), (34,186), (57,151), (103,156), (108,113), (63,24), (127,31)]\n",
      "\n",
      " 20 21\n",
      "\n",
      " [(22,31)] \n",
      " [(183,3), (97,62), (20,23), (24,124), (94,75), (146,83), (87,70), (57,191), (130,13), (187,13), (99,119), (44,91), (175,120), (165,54), (168,168), (68,133), (97,134), (17,88), (34,186), (57,151), (103,156), (108,113), (63,24), (127,31)]\n",
      "\n",
      " \n",
      " [(22,31), (183,3), (97,62), (20,23), (24,124), (94,75), (146,83), (87,70), (57,191), (130,13), (187,13), (99,119), (44,91), (175,120), (165,54), (168,168), (68,133), (97,134), (17,88), (34,186), (57,151), (103,156), (108,113), (63,24), (127,31)]\n"
     ]
    }
   ],
   "source": [
    "def breed(parent1, parent2):\n",
    "    child = []\n",
    "    childP1 = []\n",
    "    childP2 = []\n",
    "    \n",
    "    geneA = int(random.random() * len(parent1))\n",
    "    geneB = int(random.random() * len(parent1))\n",
    "        \n",
    "    startGene = min(geneA, geneB)\n",
    "    endGene = max(geneA, geneB)\n",
    "\n",
    "    for i in range(startGene, endGene):\n",
    "        childP1.append(parent1[i])\n",
    "        \n",
    "    childP2 = [item for item in parent2 if item not in childP1] # оставшиеся элементы не вошедшие в range(startGene, endGene)\n",
    "    print('\\n',startGene , endGene)\n",
    "    print('\\n',childP1 , '\\n' , childP2 )\n",
    "    child = childP1 + childP2\n",
    "    return child\n",
    "\n",
    "\n",
    "def breedPopulation(matingpool, eliteSize):\n",
    "    children = []\n",
    "    length = len(matingpool) - eliteSize\n",
    "    pool = random.sample(matingpool, len(matingpool))\n",
    "\n",
    "    for i in range(0,eliteSize):\n",
    "        children.append(matingpool[i])\n",
    "    \n",
    "    for i in range(2):#(0, length):\n",
    "        print(pool[i] , '\\n \\n', pool[len(matingpool)-i-1] )\n",
    "        child = breed(pool[i], pool[len(matingpool)-i-1])\n",
    "        print('\\n \\n', child '\\n')\n",
    "        children.append(child)\n",
    "    return children\n",
    "\n",
    "a= breedPopulation(mp, eliteSize)[0]\n",
    "\n",
    "#(183,3), (97,62), (20,23), (24,124), (94,75), (146,83), (63,24), (103,156), (94,75), (165,54), (175,120), (187,13), (130,13), (24,124), (57,191), (97,134), (44,91), (68,133), (127,31), (87,70), (22,31), (34,186), (168,168), (146,83), (183,3)"
   ]
  },
  {
   "cell_type": "code",
   "execution_count": 110,
   "metadata": {},
   "outputs": [],
   "source": [
    "def mutate(individual, mutationRate): #перемешивание нодов в гене\n",
    "    for swapped in range(len(individual)):\n",
    "        if(random.random() < mutationRate):\n",
    "            swapWith = int(random.random() * len(individual)) # с каким геном меняться местами\n",
    "            city1 = individual[swapped]\n",
    "            city2 = individual[swapWith]\n",
    "            \n",
    "            individual[swapped] = city2\n",
    "            individual[swapWith] = city1\n",
    "    return individual\n",
    "\n",
    "def mutatePopulation(population, mutationRate):\n",
    "    mutatedPop = []\n",
    "    \n",
    "    for ind in range(0, len(population)):\n",
    "        mutatedInd = mutate(population[ind], mutationRate)\n",
    "        mutatedPop.append(mutatedInd)\n",
    "    return mutatedPop\n",
    "\n"
   ]
  },
  {
   "cell_type": "code",
   "execution_count": 111,
   "metadata": {},
   "outputs": [],
   "source": [
    "def nextGeneration(currentGen, eliteSize, mutationRate):\n",
    "    popRanked = rankRoutes(currentGen)\n",
    "    selectionResults = selection(popRanked, eliteSize)\n",
    "    matingpool = matingPool(currentGen, selectionResults)\n",
    "    children = breedPopulation(matingpool, eliteSize)\n",
    "    nextGeneration = mutatePopulation(children, mutationRate)\n",
    "    return nextGeneration\n"
   ]
  },
  {
   "cell_type": "code",
   "execution_count": 128,
   "metadata": {},
   "outputs": [],
   "source": [
    "def geneticAlgorithm(population, popSize, eliteSize, mutationRate, generations, plot = True):\n",
    "    pop = initialPopulation(popSize, population)\n",
    "    print(\"Начальная дистанция: \" + str(1 / rankRoutes(pop)[0][1]))\n",
    "    if plot:\n",
    "        progress = []\n",
    "        progress.append(1 / rankRoutes(pop)[0][1])\n",
    "    \n",
    "    for i in range(0, generations):\n",
    "        pop = nextGeneration(pop, eliteSize, mutationRate)\n",
    "        if plot:\n",
    "            progress.append(1 / rankRoutes(pop)[0][1])\n",
    "    \n",
    "    print(\"Финальная дистанция: \" + str(1 / rankRoutes(pop)[0][1]))\n",
    "    bestRouteIndex = rankRoutes(pop)[0][0]\n",
    "    bestRoute = pop[bestRouteIndex]\n",
    "    if plot:\n",
    "        plt.plot(progress)\n",
    "        plt.ylabel('Дистанция')\n",
    "        plt.xlabel('Итерация')\n",
    "        plt.show()\n",
    "    return bestRoute"
   ]
  },
  {
   "cell_type": "code",
   "execution_count": 4,
   "metadata": {},
   "outputs": [],
   "source": [
    "def create_starting_population():\n",
    "    cityList = []\n",
    "    \n",
    "    for i in range(0,25):\n",
    "        cityList.append(City(x=int(random.random() * 200), y=int(random.random() * 200)))\n",
    "        \n",
    "    return cityList"
   ]
  },
  {
   "cell_type": "code",
   "execution_count": null,
   "metadata": {},
   "outputs": [],
   "source": []
  },
  {
   "cell_type": "code",
   "execution_count": 8,
   "metadata": {},
   "outputs": [],
   "source": [
    "cityList = create_starting_population()\n",
    "popSize = 100\n",
    "mutationRate = 0.01\n",
    "iters = 500\n",
    "elite_size = int(popSize * 0.2)"
   ]
  },
  {
   "cell_type": "code",
   "execution_count": 132,
   "metadata": {},
   "outputs": [
    {
     "name": "stdout",
     "output_type": "stream",
     "text": [
      "Начальная дистанция: 2083.7716314990676\n",
      "Финальная дистанция: 802.9238221757748\n"
     ]
    },
    {
     "data": {
      "image/png": "[encoded data removed]",
      "text/plain": [
       "<Figure size 432x288 with 1 Axes>"
      ]
     },
     "metadata": {
      "needs_background": "light"
     },
     "output_type": "display_data"
    }
   ],
   "source": [
    "best = geneticAlgorithm(population = cityList, popSize = popSize, eliteSize = elite_size, mutationRate = mutationRate,generations = iters)"
   ]
  },
  {
   "cell_type": "code",
   "execution_count": 133,
   "metadata": {},
   "outputs": [
    {
     "data": {
      "text/plain": [
       "<matplotlib.collections.PathCollection at 0x234e5dea188>"
      ]
     },
     "execution_count": 133,
     "metadata": {},
     "output_type": "execute_result"
    },
    {
     "data": {
      "image/png": "[encoded data removed]",
      "text/plain": [
       "<Figure size 432x288 with 1 Axes>"
      ]
     },
     "metadata": {
      "needs_background": "light"
     },
     "output_type": "display_data"
    }
   ],
   "source": [
    "x = []\n",
    "y = []\n",
    "\n",
    "for i in range(len(best)):\n",
    "    arr = best[i].__repr__(formats ='array')\n",
    "    x.append(arr[0])\n",
    "    y.append(arr[1])\n",
    "\n",
    "\n",
    "plt.plot(x,y)\n",
    "plt.scatter(x[0],y[0],c='red')\n",
    "plt.scatter(x[len(best)-1],y[len(best)-1],c='red')\n",
    "plt.scatter(x[1:len(best)-2],y[1:len(best)-2])"
   ]
  },
  {
   "cell_type": "code",
   "execution_count": 134,
   "metadata": {},
   "outputs": [
    {
     "data": {
      "text/plain": [
       "<matplotlib.collections.PathCollection at 0x234e5f67108>"
      ]
     },
     "execution_count": 134,
     "metadata": {},
     "output_type": "execute_result"
    },
    {
     "data": {
      "image/png": "[encoded data removed]",
      "text/plain": [
       "<Figure size 432x288 with 1 Axes>"
      ]
     },
     "metadata": {
      "needs_background": "light"
     },
     "output_type": "display_data"
    }
   ],
   "source": [
    "x = []\n",
    "y = []\n",
    "\n",
    "for i in range(len(cityList)):\n",
    "    arr = cityList[i].__repr__(formats ='array')\n",
    "    x.append(arr[0])\n",
    "    y.append(arr[1])\n",
    "\n",
    "plt.plot(x,y)\n",
    "plt.scatter(x[0],y[0],c='red')\n",
    "plt.scatter(x[len(best)-1],y[len(best)-1],c='red')\n",
    "plt.scatter(x[1:len(best)-2],y[1:len(best)-2])"
   ]
  },
  {
   "cell_type": "code",
   "execution_count": null,
   "metadata": {},
   "outputs": [],
   "source": []
  },
  {
   "cell_type": "code",
   "execution_count": null,
   "metadata": {},
   "outputs": [],
   "source": []
  }
 ],
 "metadata": {
  "kernelspec": {
   "display_name": "Python 3",
   "language": "python",
   "name": "python3"
  },
  "language_info": {
   "codemirror_mode": {
    "name": "ipython",
    "version": 3
   },
   "file_extension": ".py",
   "mimetype": "text/x-python",
   "name": "python",
   "nbconvert_exporter": "python",
   "pygments_lexer": "ipython3",
   "version": "3.7.4"
  }
 },
 "nbformat": 4,
 "nbformat_minor": 2
}
